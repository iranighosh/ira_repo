{
  "nbformat": 4,
  "nbformat_minor": 0,
  "metadata": {
    "colab": {
      "provenance": []
    },
    "kernelspec": {
      "name": "python3",
      "display_name": "Python 3"
    },
    "language_info": {
      "name": "python"
    }
  },
  "cells": [
    {
      "cell_type": "code",
      "execution_count": null,
      "metadata": {
        "colab": {
          "base_uri": "https://localhost:8080/"
        },
        "id": "ygpryzr_KTox",
        "outputId": "23698d43-c342-43bd-a54c-8c3af958ebaf"
      },
      "outputs": [
        {
          "output_type": "stream",
          "name": "stdout",
          "text": [
            "Enter integer:\n",
            "-1\n",
            "you have entered negative number, decimal number or non numberic character,try again\n",
            "\n"
          ]
        }
      ],
      "source": [
        "num=int(input(\"Enter integer:\\n\"))\n",
        "if (num>1):\n",
        "   for i in range(2,num):\n",
        "      if (num%i==0):\n",
        "         print(\"num is not prime\\n\")\n",
        "         break\n",
        "   else:\n",
        "     print(num,\"is a prime\\n\")\n",
        "elif(num==1) or (num==0):\n",
        "    print(\"you have entered either 0 or 1 which are not prime numbers\\n\")\n",
        "else:\n",
        "    print(\"you have entered negative number, decimal number or non numberic character,try again\\n\")"
      ]
    },
    {
      "cell_type": "code",
      "source": [
        "num=int(input(\"Enter integer:\\n\"))\n",
        "#if(isinstance(num,int))==False:\n",
        "#   print(\"Enter a positive integer, not decimal or negative integer\\n\")\n",
        "if (num>1):\n",
        "  if(num==2):\n",
        "     print(num,\"is a prime number\\n\")\n",
        "  for i in range(2,num):\n",
        "    if (num%i==0):\n",
        "       print(\"num is not prime\\n\")\n",
        "       break\n",
        "    if (i==num-1):\n",
        "       print(num,\"is a prime\\n\")\n",
        "elif(num==0 or num==1):\n",
        "      print(\"you have entered either 0 or 1 which are not prime numbers\\n\")\n",
        "else:\n",
        "    print(\"you have entered negative number, decimal number or non numberic character,try again\\n\")"
      ],
      "metadata": {
        "colab": {
          "base_uri": "https://localhost:8080/"
        },
        "id": "Mo6YQFYZ3CS3",
        "outputId": "be0c452c-248a-4bdb-cf64-96c6d9408366"
      },
      "execution_count": null,
      "outputs": [
        {
          "output_type": "stream",
          "name": "stdout",
          "text": [
            "Enter integer:\n",
            "2\n",
            "2 is a prime number\n",
            "\n"
          ]
        }
      ]
    },
    {
      "cell_type": "code",
      "source": [],
      "metadata": {
        "id": "ZLdCYQUvNpKE"
      },
      "execution_count": null,
      "outputs": []
    },
    {
      "cell_type": "markdown",
      "source": [],
      "metadata": {
        "id": "96xN_4YbMj3w"
      }
    }
  ]
}